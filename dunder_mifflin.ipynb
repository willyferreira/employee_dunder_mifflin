{
 "cells": [
  {
   "cell_type": "markdown",
   "metadata": {},
   "source": [
    "https://www.kaggle.com/datasets/cocolicoq4/employee-churn-at-dunder-mifflin-paper-company"
   ]
  },
  {
   "cell_type": "markdown",
   "metadata": {},
   "source": [
    "#### Importação das bibliotecas"
   ]
  },
  {
   "cell_type": "code",
   "execution_count": 4,
   "metadata": {},
   "outputs": [],
   "source": [
    "import pandas as pd\n",
    "import numpy as np\n",
    "import seaborn as sns"
   ]
  },
  {
   "cell_type": "markdown",
   "metadata": {},
   "source": [
    "##### Leitura do dataframe"
   ]
  },
  {
   "cell_type": "code",
   "execution_count": 5,
   "metadata": {},
   "outputs": [
    {
     "data": {
      "text/html": [
       "<div>\n",
       "<style scoped>\n",
       "    .dataframe tbody tr th:only-of-type {\n",
       "        vertical-align: middle;\n",
       "    }\n",
       "\n",
       "    .dataframe tbody tr th {\n",
       "        vertical-align: top;\n",
       "    }\n",
       "\n",
       "    .dataframe thead th {\n",
       "        text-align: right;\n",
       "    }\n",
       "</style>\n",
       "<table border=\"1\" class=\"dataframe\">\n",
       "  <thead>\n",
       "    <tr style=\"text-align: right;\">\n",
       "      <th></th>\n",
       "      <th>EmployeeID</th>\n",
       "      <th>Branch</th>\n",
       "      <th>Tenure</th>\n",
       "      <th>Salary</th>\n",
       "      <th>Department</th>\n",
       "      <th>JobSatisfaction</th>\n",
       "      <th>WorkLifeBalance</th>\n",
       "      <th>CommuteDistance</th>\n",
       "      <th>MaritalStatus</th>\n",
       "      <th>Education</th>\n",
       "      <th>PerformanceRating</th>\n",
       "      <th>TrainingHours</th>\n",
       "      <th>OverTime</th>\n",
       "      <th>NumProjects</th>\n",
       "      <th>YearsSincePromotion</th>\n",
       "      <th>EnvironmentSatisfaction</th>\n",
       "      <th>ChurnLikelihood</th>\n",
       "    </tr>\n",
       "  </thead>\n",
       "  <tbody>\n",
       "    <tr>\n",
       "      <th>0</th>\n",
       "      <td>1</td>\n",
       "      <td>San Francisco</td>\n",
       "      <td>4.0</td>\n",
       "      <td>63000.0</td>\n",
       "      <td>Legal</td>\n",
       "      <td>3.0</td>\n",
       "      <td>3.0</td>\n",
       "      <td>Long</td>\n",
       "      <td>Married</td>\n",
       "      <td>High School</td>\n",
       "      <td>3.000000</td>\n",
       "      <td>88.0</td>\n",
       "      <td>True</td>\n",
       "      <td>3.0</td>\n",
       "      <td>0.0</td>\n",
       "      <td>2.0</td>\n",
       "      <td>Highly Likely to Churn</td>\n",
       "    </tr>\n",
       "    <tr>\n",
       "      <th>1</th>\n",
       "      <td>2</td>\n",
       "      <td>Chicago</td>\n",
       "      <td>14.0</td>\n",
       "      <td>72000.0</td>\n",
       "      <td>Accounting</td>\n",
       "      <td>4.0</td>\n",
       "      <td>4.0</td>\n",
       "      <td>Short</td>\n",
       "      <td>Single</td>\n",
       "      <td>Bachelor</td>\n",
       "      <td>3.666667</td>\n",
       "      <td>30.0</td>\n",
       "      <td>True</td>\n",
       "      <td>3.0</td>\n",
       "      <td>2.0</td>\n",
       "      <td>3.0</td>\n",
       "      <td>Moderately Likely to Churn</td>\n",
       "    </tr>\n",
       "    <tr>\n",
       "      <th>2</th>\n",
       "      <td>3</td>\n",
       "      <td>Miami</td>\n",
       "      <td>4.0</td>\n",
       "      <td>40000.0</td>\n",
       "      <td>Quality Assurance</td>\n",
       "      <td>3.0</td>\n",
       "      <td>3.0</td>\n",
       "      <td>Medium</td>\n",
       "      <td>Single</td>\n",
       "      <td>High School</td>\n",
       "      <td>3.666667</td>\n",
       "      <td>64.0</td>\n",
       "      <td>NaN</td>\n",
       "      <td>NaN</td>\n",
       "      <td>0.0</td>\n",
       "      <td>4.0</td>\n",
       "      <td>Highly Likely to Churn</td>\n",
       "    </tr>\n",
       "    <tr>\n",
       "      <th>3</th>\n",
       "      <td>4</td>\n",
       "      <td>Scranton</td>\n",
       "      <td>2.0</td>\n",
       "      <td>55000.0</td>\n",
       "      <td>Legal</td>\n",
       "      <td>3.0</td>\n",
       "      <td>3.5</td>\n",
       "      <td>Short</td>\n",
       "      <td>Married</td>\n",
       "      <td>Bachelor</td>\n",
       "      <td>3.666667</td>\n",
       "      <td>30.0</td>\n",
       "      <td>True</td>\n",
       "      <td>4.0</td>\n",
       "      <td>0.0</td>\n",
       "      <td>3.0</td>\n",
       "      <td>Moderately Likely to Churn</td>\n",
       "    </tr>\n",
       "    <tr>\n",
       "      <th>4</th>\n",
       "      <td>5</td>\n",
       "      <td>Scranton</td>\n",
       "      <td>10.0</td>\n",
       "      <td>55500.0</td>\n",
       "      <td>Legal</td>\n",
       "      <td>3.0</td>\n",
       "      <td>3.0</td>\n",
       "      <td>Medium</td>\n",
       "      <td>Married</td>\n",
       "      <td>Bachelor</td>\n",
       "      <td>3.333333</td>\n",
       "      <td>18.0</td>\n",
       "      <td>NaN</td>\n",
       "      <td>4.0</td>\n",
       "      <td>1.0</td>\n",
       "      <td>3.0</td>\n",
       "      <td>Moderately Likely to Churn</td>\n",
       "    </tr>\n",
       "  </tbody>\n",
       "</table>\n",
       "</div>"
      ],
      "text/plain": [
       "   EmployeeID         Branch  Tenure   Salary         Department  \\\n",
       "0           1  San Francisco     4.0  63000.0              Legal   \n",
       "1           2        Chicago    14.0  72000.0         Accounting   \n",
       "2           3          Miami     4.0  40000.0  Quality Assurance   \n",
       "3           4       Scranton     2.0  55000.0              Legal   \n",
       "4           5       Scranton    10.0  55500.0              Legal   \n",
       "\n",
       "   JobSatisfaction  WorkLifeBalance CommuteDistance MaritalStatus  \\\n",
       "0              3.0              3.0            Long       Married   \n",
       "1              4.0              4.0           Short        Single   \n",
       "2              3.0              3.0          Medium        Single   \n",
       "3              3.0              3.5           Short       Married   \n",
       "4              3.0              3.0          Medium       Married   \n",
       "\n",
       "     Education  PerformanceRating  TrainingHours OverTime  NumProjects  \\\n",
       "0  High School           3.000000           88.0     True          3.0   \n",
       "1     Bachelor           3.666667           30.0     True          3.0   \n",
       "2  High School           3.666667           64.0      NaN          NaN   \n",
       "3     Bachelor           3.666667           30.0     True          4.0   \n",
       "4     Bachelor           3.333333           18.0      NaN          4.0   \n",
       "\n",
       "   YearsSincePromotion  EnvironmentSatisfaction             ChurnLikelihood  \n",
       "0                  0.0                      2.0      Highly Likely to Churn  \n",
       "1                  2.0                      3.0  Moderately Likely to Churn  \n",
       "2                  0.0                      4.0      Highly Likely to Churn  \n",
       "3                  0.0                      3.0  Moderately Likely to Churn  \n",
       "4                  1.0                      3.0  Moderately Likely to Churn  "
      ]
     },
     "execution_count": 5,
     "metadata": {},
     "output_type": "execute_result"
    }
   ],
   "source": [
    "df = pd.read_csv('data/office_churn_dataset.csv')\n",
    "df.head()"
   ]
  },
  {
   "cell_type": "code",
   "execution_count": 4,
   "metadata": {},
   "outputs": [
    {
     "name": "stdout",
     "output_type": "stream",
     "text": [
      "<class 'pandas.core.frame.DataFrame'>\n",
      "RangeIndex: 1543 entries, 0 to 1542\n",
      "Data columns (total 17 columns):\n",
      " #   Column                   Non-Null Count  Dtype  \n",
      "---  ------                   --------------  -----  \n",
      " 0   EmployeeID               1543 non-null   int64  \n",
      " 1   Branch                   1535 non-null   object \n",
      " 2   Tenure                   1534 non-null   float64\n",
      " 3   Salary                   1534 non-null   float64\n",
      " 4   Department               1543 non-null   object \n",
      " 5   JobSatisfaction          1515 non-null   float64\n",
      " 6   WorkLifeBalance          1515 non-null   float64\n",
      " 7   CommuteDistance          1543 non-null   object \n",
      " 8   MaritalStatus            1543 non-null   object \n",
      " 9   Education                1543 non-null   object \n",
      " 10  PerformanceRating        1536 non-null   float64\n",
      " 11  TrainingHours            1352 non-null   float64\n",
      " 12  OverTime                 1443 non-null   object \n",
      " 13  NumProjects              1444 non-null   float64\n",
      " 14  YearsSincePromotion      1542 non-null   float64\n",
      " 15  EnvironmentSatisfaction  1515 non-null   float64\n",
      " 16  ChurnLikelihood          1543 non-null   object \n",
      "dtypes: float64(9), int64(1), object(7)\n",
      "memory usage: 205.1+ KB\n"
     ]
    }
   ],
   "source": [
    "df.info()"
   ]
  },
  {
   "cell_type": "code",
   "execution_count": 5,
   "metadata": {},
   "outputs": [],
   "source": [
    "#df['Tenure'].astype('object')"
   ]
  },
  {
   "cell_type": "code",
   "execution_count": 6,
   "metadata": {},
   "outputs": [],
   "source": [
    "#df.to_excel('data/office_churn_dataset.xlsx', index = False)"
   ]
  },
  {
   "cell_type": "code",
   "execution_count": 7,
   "metadata": {},
   "outputs": [],
   "source": [
    "#df = pd.read_excel(io = 'data/office_churn_dataset.xlsx')\n",
    "#df.info()"
   ]
  },
  {
   "cell_type": "code",
   "execution_count": 8,
   "metadata": {},
   "outputs": [],
   "source": [
    "colunas = {\n",
    "    'EmployeeID' : 'id',\n",
    "    'Branch' : 'filial',\n",
    "    'Tenure' : 'tempo_funcionario',\n",
    "    'Salary' : 'salario_anual',\n",
    "    'Department' : 'setor',\n",
    "    'JobSatisfaction' : 'satisfacao_trabalho',\n",
    "    'WorkLifeBalance' : 'balanco_vida_trabalho',\n",
    "    'CommuteDistance' : 'distancia_trabalho',\n",
    "    'MaritalStatus' : 'estado_civil',\n",
    "    'Education' : 'escolaridade',\n",
    "    'PerformanceRating' : 'avaliacao_performance',\n",
    "    'TrainingHours' : 'horas_treinamento',\n",
    "    'OverTime' : 'horas_extras',\n",
    "    'NumProjects' : 'qtd_projetos',\n",
    "    'YearsSincePromotion' : 'anos_ult_promocao',\n",
    "    'EnvironmentSatisfaction' : 'satisfacao_ambiente',\n",
    "    'ChurnLikelihood' : 'churn_probabilidade' \n",
    "}"
   ]
  },
  {
   "cell_type": "code",
   "execution_count": 9,
   "metadata": {},
   "outputs": [
    {
     "data": {
      "text/html": [
       "<div>\n",
       "<style scoped>\n",
       "    .dataframe tbody tr th:only-of-type {\n",
       "        vertical-align: middle;\n",
       "    }\n",
       "\n",
       "    .dataframe tbody tr th {\n",
       "        vertical-align: top;\n",
       "    }\n",
       "\n",
       "    .dataframe thead th {\n",
       "        text-align: right;\n",
       "    }\n",
       "</style>\n",
       "<table border=\"1\" class=\"dataframe\">\n",
       "  <thead>\n",
       "    <tr style=\"text-align: right;\">\n",
       "      <th></th>\n",
       "      <th>id</th>\n",
       "      <th>filial</th>\n",
       "      <th>tempo_funcionario</th>\n",
       "      <th>salario_anual</th>\n",
       "      <th>setor</th>\n",
       "      <th>satisfacao_trabalho</th>\n",
       "      <th>balanco_vida_trabalho</th>\n",
       "      <th>distancia_trabalho</th>\n",
       "      <th>estado_civil</th>\n",
       "      <th>escolaridade</th>\n",
       "      <th>avaliacao_performance</th>\n",
       "      <th>horas_treinamento</th>\n",
       "      <th>horas_extras</th>\n",
       "      <th>qtd_projetos</th>\n",
       "      <th>anos_ult_promocao</th>\n",
       "      <th>satisfacao_ambiente</th>\n",
       "      <th>churn_probabilidade</th>\n",
       "    </tr>\n",
       "  </thead>\n",
       "  <tbody>\n",
       "    <tr>\n",
       "      <th>0</th>\n",
       "      <td>1</td>\n",
       "      <td>San Francisco</td>\n",
       "      <td>4.0</td>\n",
       "      <td>63000.0</td>\n",
       "      <td>Legal</td>\n",
       "      <td>3.0</td>\n",
       "      <td>3.0</td>\n",
       "      <td>Long</td>\n",
       "      <td>Married</td>\n",
       "      <td>High School</td>\n",
       "      <td>3.000000</td>\n",
       "      <td>88.0</td>\n",
       "      <td>True</td>\n",
       "      <td>3.0</td>\n",
       "      <td>0.0</td>\n",
       "      <td>2.0</td>\n",
       "      <td>Highly Likely to Churn</td>\n",
       "    </tr>\n",
       "    <tr>\n",
       "      <th>1</th>\n",
       "      <td>2</td>\n",
       "      <td>Chicago</td>\n",
       "      <td>14.0</td>\n",
       "      <td>72000.0</td>\n",
       "      <td>Accounting</td>\n",
       "      <td>4.0</td>\n",
       "      <td>4.0</td>\n",
       "      <td>Short</td>\n",
       "      <td>Single</td>\n",
       "      <td>Bachelor</td>\n",
       "      <td>3.666667</td>\n",
       "      <td>30.0</td>\n",
       "      <td>True</td>\n",
       "      <td>3.0</td>\n",
       "      <td>2.0</td>\n",
       "      <td>3.0</td>\n",
       "      <td>Moderately Likely to Churn</td>\n",
       "    </tr>\n",
       "    <tr>\n",
       "      <th>2</th>\n",
       "      <td>3</td>\n",
       "      <td>Miami</td>\n",
       "      <td>4.0</td>\n",
       "      <td>40000.0</td>\n",
       "      <td>Quality Assurance</td>\n",
       "      <td>3.0</td>\n",
       "      <td>3.0</td>\n",
       "      <td>Medium</td>\n",
       "      <td>Single</td>\n",
       "      <td>High School</td>\n",
       "      <td>3.666667</td>\n",
       "      <td>64.0</td>\n",
       "      <td>NaN</td>\n",
       "      <td>NaN</td>\n",
       "      <td>0.0</td>\n",
       "      <td>4.0</td>\n",
       "      <td>Highly Likely to Churn</td>\n",
       "    </tr>\n",
       "    <tr>\n",
       "      <th>3</th>\n",
       "      <td>4</td>\n",
       "      <td>Scranton</td>\n",
       "      <td>2.0</td>\n",
       "      <td>55000.0</td>\n",
       "      <td>Legal</td>\n",
       "      <td>3.0</td>\n",
       "      <td>3.5</td>\n",
       "      <td>Short</td>\n",
       "      <td>Married</td>\n",
       "      <td>Bachelor</td>\n",
       "      <td>3.666667</td>\n",
       "      <td>30.0</td>\n",
       "      <td>True</td>\n",
       "      <td>4.0</td>\n",
       "      <td>0.0</td>\n",
       "      <td>3.0</td>\n",
       "      <td>Moderately Likely to Churn</td>\n",
       "    </tr>\n",
       "    <tr>\n",
       "      <th>4</th>\n",
       "      <td>5</td>\n",
       "      <td>Scranton</td>\n",
       "      <td>10.0</td>\n",
       "      <td>55500.0</td>\n",
       "      <td>Legal</td>\n",
       "      <td>3.0</td>\n",
       "      <td>3.0</td>\n",
       "      <td>Medium</td>\n",
       "      <td>Married</td>\n",
       "      <td>Bachelor</td>\n",
       "      <td>3.333333</td>\n",
       "      <td>18.0</td>\n",
       "      <td>NaN</td>\n",
       "      <td>4.0</td>\n",
       "      <td>1.0</td>\n",
       "      <td>3.0</td>\n",
       "      <td>Moderately Likely to Churn</td>\n",
       "    </tr>\n",
       "  </tbody>\n",
       "</table>\n",
       "</div>"
      ],
      "text/plain": [
       "   id         filial  tempo_funcionario  salario_anual              setor  \\\n",
       "0   1  San Francisco                4.0        63000.0              Legal   \n",
       "1   2        Chicago               14.0        72000.0         Accounting   \n",
       "2   3          Miami                4.0        40000.0  Quality Assurance   \n",
       "3   4       Scranton                2.0        55000.0              Legal   \n",
       "4   5       Scranton               10.0        55500.0              Legal   \n",
       "\n",
       "   satisfacao_trabalho  balanco_vida_trabalho distancia_trabalho estado_civil  \\\n",
       "0                  3.0                    3.0               Long      Married   \n",
       "1                  4.0                    4.0              Short       Single   \n",
       "2                  3.0                    3.0             Medium       Single   \n",
       "3                  3.0                    3.5              Short      Married   \n",
       "4                  3.0                    3.0             Medium      Married   \n",
       "\n",
       "  escolaridade  avaliacao_performance  horas_treinamento horas_extras  \\\n",
       "0  High School               3.000000               88.0         True   \n",
       "1     Bachelor               3.666667               30.0         True   \n",
       "2  High School               3.666667               64.0          NaN   \n",
       "3     Bachelor               3.666667               30.0         True   \n",
       "4     Bachelor               3.333333               18.0          NaN   \n",
       "\n",
       "   qtd_projetos  anos_ult_promocao  satisfacao_ambiente  \\\n",
       "0           3.0                0.0                  2.0   \n",
       "1           3.0                2.0                  3.0   \n",
       "2           NaN                0.0                  4.0   \n",
       "3           4.0                0.0                  3.0   \n",
       "4           4.0                1.0                  3.0   \n",
       "\n",
       "          churn_probabilidade  \n",
       "0      Highly Likely to Churn  \n",
       "1  Moderately Likely to Churn  \n",
       "2      Highly Likely to Churn  \n",
       "3  Moderately Likely to Churn  \n",
       "4  Moderately Likely to Churn  "
      ]
     },
     "execution_count": 9,
     "metadata": {},
     "output_type": "execute_result"
    }
   ],
   "source": [
    "df.rename(\n",
    "    columns = colunas,\n",
    "    inplace = True\n",
    ")\n",
    "df.head()"
   ]
  },
  {
   "cell_type": "code",
   "execution_count": 10,
   "metadata": {},
   "outputs": [
    {
     "data": {
      "text/plain": [
       "(1543, 17)"
      ]
     },
     "execution_count": 10,
     "metadata": {},
     "output_type": "execute_result"
    }
   ],
   "source": [
    "df.shape"
   ]
  },
  {
   "cell_type": "code",
   "execution_count": 11,
   "metadata": {},
   "outputs": [
    {
     "name": "stdout",
     "output_type": "stream",
     "text": [
      "<class 'pandas.core.frame.DataFrame'>\n",
      "RangeIndex: 1543 entries, 0 to 1542\n",
      "Data columns (total 17 columns):\n",
      " #   Column                 Non-Null Count  Dtype  \n",
      "---  ------                 --------------  -----  \n",
      " 0   id                     1543 non-null   int64  \n",
      " 1   filial                 1535 non-null   object \n",
      " 2   tempo_funcionario      1534 non-null   float64\n",
      " 3   salario_anual          1534 non-null   float64\n",
      " 4   setor                  1543 non-null   object \n",
      " 5   satisfacao_trabalho    1515 non-null   float64\n",
      " 6   balanco_vida_trabalho  1515 non-null   float64\n",
      " 7   distancia_trabalho     1543 non-null   object \n",
      " 8   estado_civil           1543 non-null   object \n",
      " 9   escolaridade           1543 non-null   object \n",
      " 10  avaliacao_performance  1536 non-null   float64\n",
      " 11  horas_treinamento      1352 non-null   float64\n",
      " 12  horas_extras           1443 non-null   object \n",
      " 13  qtd_projetos           1444 non-null   float64\n",
      " 14  anos_ult_promocao      1542 non-null   float64\n",
      " 15  satisfacao_ambiente    1515 non-null   float64\n",
      " 16  churn_probabilidade    1543 non-null   object \n",
      "dtypes: float64(9), int64(1), object(7)\n",
      "memory usage: 205.1+ KB\n"
     ]
    }
   ],
   "source": [
    "df.info()"
   ]
  },
  {
   "cell_type": "code",
   "execution_count": 12,
   "metadata": {},
   "outputs": [
    {
     "data": {
      "text/html": [
       "<div>\n",
       "<style scoped>\n",
       "    .dataframe tbody tr th:only-of-type {\n",
       "        vertical-align: middle;\n",
       "    }\n",
       "\n",
       "    .dataframe tbody tr th {\n",
       "        vertical-align: top;\n",
       "    }\n",
       "\n",
       "    .dataframe thead th {\n",
       "        text-align: right;\n",
       "    }\n",
       "</style>\n",
       "<table border=\"1\" class=\"dataframe\">\n",
       "  <thead>\n",
       "    <tr style=\"text-align: right;\">\n",
       "      <th></th>\n",
       "      <th>count</th>\n",
       "      <th>mean</th>\n",
       "      <th>std</th>\n",
       "      <th>min</th>\n",
       "      <th>25%</th>\n",
       "      <th>50%</th>\n",
       "      <th>75%</th>\n",
       "      <th>max</th>\n",
       "    </tr>\n",
       "  </thead>\n",
       "  <tbody>\n",
       "    <tr>\n",
       "      <th>id</th>\n",
       "      <td>1543.0</td>\n",
       "      <td>772.000000</td>\n",
       "      <td>445.570047</td>\n",
       "      <td>1.000000</td>\n",
       "      <td>386.500000</td>\n",
       "      <td>772.000000</td>\n",
       "      <td>1157.500000</td>\n",
       "      <td>1543.000000</td>\n",
       "    </tr>\n",
       "    <tr>\n",
       "      <th>tempo_funcionario</th>\n",
       "      <td>1534.0</td>\n",
       "      <td>7.612125</td>\n",
       "      <td>4.123834</td>\n",
       "      <td>0.000000</td>\n",
       "      <td>5.000000</td>\n",
       "      <td>7.000000</td>\n",
       "      <td>10.000000</td>\n",
       "      <td>27.000000</td>\n",
       "    </tr>\n",
       "    <tr>\n",
       "      <th>salario_anual</th>\n",
       "      <td>1534.0</td>\n",
       "      <td>66654.498044</td>\n",
       "      <td>8473.622168</td>\n",
       "      <td>40000.000000</td>\n",
       "      <td>61000.000000</td>\n",
       "      <td>66500.000000</td>\n",
       "      <td>72375.000000</td>\n",
       "      <td>98000.000000</td>\n",
       "    </tr>\n",
       "    <tr>\n",
       "      <th>satisfacao_trabalho</th>\n",
       "      <td>1515.0</td>\n",
       "      <td>3.421782</td>\n",
       "      <td>1.095047</td>\n",
       "      <td>1.000000</td>\n",
       "      <td>3.000000</td>\n",
       "      <td>3.000000</td>\n",
       "      <td>4.000000</td>\n",
       "      <td>5.000000</td>\n",
       "    </tr>\n",
       "    <tr>\n",
       "      <th>balanco_vida_trabalho</th>\n",
       "      <td>1515.0</td>\n",
       "      <td>3.770770</td>\n",
       "      <td>0.481407</td>\n",
       "      <td>2.000000</td>\n",
       "      <td>3.500000</td>\n",
       "      <td>4.000000</td>\n",
       "      <td>4.000000</td>\n",
       "      <td>5.000000</td>\n",
       "    </tr>\n",
       "    <tr>\n",
       "      <th>avaliacao_performance</th>\n",
       "      <td>1536.0</td>\n",
       "      <td>3.493310</td>\n",
       "      <td>0.411208</td>\n",
       "      <td>1.639834</td>\n",
       "      <td>3.333333</td>\n",
       "      <td>3.363192</td>\n",
       "      <td>3.666667</td>\n",
       "      <td>5.000000</td>\n",
       "    </tr>\n",
       "    <tr>\n",
       "      <th>horas_treinamento</th>\n",
       "      <td>1352.0</td>\n",
       "      <td>34.645646</td>\n",
       "      <td>22.970267</td>\n",
       "      <td>5.196002</td>\n",
       "      <td>18.000000</td>\n",
       "      <td>30.000000</td>\n",
       "      <td>40.000000</td>\n",
       "      <td>96.000000</td>\n",
       "    </tr>\n",
       "    <tr>\n",
       "      <th>qtd_projetos</th>\n",
       "      <td>1444.0</td>\n",
       "      <td>3.500687</td>\n",
       "      <td>0.714107</td>\n",
       "      <td>1.505266</td>\n",
       "      <td>3.000000</td>\n",
       "      <td>3.618543</td>\n",
       "      <td>4.000000</td>\n",
       "      <td>6.394718</td>\n",
       "    </tr>\n",
       "    <tr>\n",
       "      <th>anos_ult_promocao</th>\n",
       "      <td>1542.0</td>\n",
       "      <td>1.203632</td>\n",
       "      <td>2.059476</td>\n",
       "      <td>0.000000</td>\n",
       "      <td>0.000000</td>\n",
       "      <td>0.000000</td>\n",
       "      <td>2.000000</td>\n",
       "      <td>16.000000</td>\n",
       "    </tr>\n",
       "    <tr>\n",
       "      <th>satisfacao_ambiente</th>\n",
       "      <td>1515.0</td>\n",
       "      <td>2.521421</td>\n",
       "      <td>0.691325</td>\n",
       "      <td>1.000000</td>\n",
       "      <td>2.000000</td>\n",
       "      <td>2.780499</td>\n",
       "      <td>3.000000</td>\n",
       "      <td>5.000000</td>\n",
       "    </tr>\n",
       "  </tbody>\n",
       "</table>\n",
       "</div>"
      ],
      "text/plain": [
       "                        count          mean          std           min  \\\n",
       "id                     1543.0    772.000000   445.570047      1.000000   \n",
       "tempo_funcionario      1534.0      7.612125     4.123834      0.000000   \n",
       "salario_anual          1534.0  66654.498044  8473.622168  40000.000000   \n",
       "satisfacao_trabalho    1515.0      3.421782     1.095047      1.000000   \n",
       "balanco_vida_trabalho  1515.0      3.770770     0.481407      2.000000   \n",
       "avaliacao_performance  1536.0      3.493310     0.411208      1.639834   \n",
       "horas_treinamento      1352.0     34.645646    22.970267      5.196002   \n",
       "qtd_projetos           1444.0      3.500687     0.714107      1.505266   \n",
       "anos_ult_promocao      1542.0      1.203632     2.059476      0.000000   \n",
       "satisfacao_ambiente    1515.0      2.521421     0.691325      1.000000   \n",
       "\n",
       "                                25%           50%           75%           max  \n",
       "id                       386.500000    772.000000   1157.500000   1543.000000  \n",
       "tempo_funcionario          5.000000      7.000000     10.000000     27.000000  \n",
       "salario_anual          61000.000000  66500.000000  72375.000000  98000.000000  \n",
       "satisfacao_trabalho        3.000000      3.000000      4.000000      5.000000  \n",
       "balanco_vida_trabalho      3.500000      4.000000      4.000000      5.000000  \n",
       "avaliacao_performance      3.333333      3.363192      3.666667      5.000000  \n",
       "horas_treinamento         18.000000     30.000000     40.000000     96.000000  \n",
       "qtd_projetos               3.000000      3.618543      4.000000      6.394718  \n",
       "anos_ult_promocao          0.000000      0.000000      2.000000     16.000000  \n",
       "satisfacao_ambiente        2.000000      2.780499      3.000000      5.000000  "
      ]
     },
     "execution_count": 12,
     "metadata": {},
     "output_type": "execute_result"
    }
   ],
   "source": [
    "df.describe().T"
   ]
  },
  {
   "cell_type": "code",
   "execution_count": 13,
   "metadata": {},
   "outputs": [
    {
     "data": {
      "text/html": [
       "<div>\n",
       "<style scoped>\n",
       "    .dataframe tbody tr th:only-of-type {\n",
       "        vertical-align: middle;\n",
       "    }\n",
       "\n",
       "    .dataframe tbody tr th {\n",
       "        vertical-align: top;\n",
       "    }\n",
       "\n",
       "    .dataframe thead th {\n",
       "        text-align: right;\n",
       "    }\n",
       "</style>\n",
       "<table border=\"1\" class=\"dataframe\">\n",
       "  <thead>\n",
       "    <tr style=\"text-align: right;\">\n",
       "      <th></th>\n",
       "      <th>qtd_func</th>\n",
       "      <th>(%) do total</th>\n",
       "    </tr>\n",
       "    <tr>\n",
       "      <th>filial</th>\n",
       "      <th></th>\n",
       "      <th></th>\n",
       "    </tr>\n",
       "  </thead>\n",
       "  <tbody>\n",
       "    <tr>\n",
       "      <th>Los Angeles</th>\n",
       "      <td>181</td>\n",
       "      <td>11.8</td>\n",
       "    </tr>\n",
       "    <tr>\n",
       "      <th>New York</th>\n",
       "      <td>180</td>\n",
       "      <td>11.7</td>\n",
       "    </tr>\n",
       "    <tr>\n",
       "      <th>Scranton</th>\n",
       "      <td>179</td>\n",
       "      <td>11.7</td>\n",
       "    </tr>\n",
       "    <tr>\n",
       "      <th>Philadelphia</th>\n",
       "      <td>166</td>\n",
       "      <td>10.8</td>\n",
       "    </tr>\n",
       "    <tr>\n",
       "      <th>Boston</th>\n",
       "      <td>165</td>\n",
       "      <td>10.7</td>\n",
       "    </tr>\n",
       "  </tbody>\n",
       "</table>\n",
       "</div>"
      ],
      "text/plain": [
       "              qtd_func  (%) do total\n",
       "filial                              \n",
       "Los Angeles        181          11.8\n",
       "New York           180          11.7\n",
       "Scranton           179          11.7\n",
       "Philadelphia       166          10.8\n",
       "Boston             165          10.7"
      ]
     },
     "execution_count": 13,
     "metadata": {},
     "output_type": "execute_result"
    }
   ],
   "source": [
    "filial_count = df['filial'].value_counts()\n",
    "filial_perc = df['filial'].value_counts(normalize = True)\n",
    "filial = pd.DataFrame({'qtd_func' : filial_count, '(%) do total' : round(filial_perc * 100, 1)})\n",
    "filial.head()"
   ]
  },
  {
   "cell_type": "code",
   "execution_count": 14,
   "metadata": {},
   "outputs": [
    {
     "data": {
      "text/html": [
       "<div>\n",
       "<style scoped>\n",
       "    .dataframe tbody tr th:only-of-type {\n",
       "        vertical-align: middle;\n",
       "    }\n",
       "\n",
       "    .dataframe tbody tr th {\n",
       "        vertical-align: top;\n",
       "    }\n",
       "\n",
       "    .dataframe thead th {\n",
       "        text-align: right;\n",
       "    }\n",
       "</style>\n",
       "<table border=\"1\" class=\"dataframe\">\n",
       "  <thead>\n",
       "    <tr style=\"text-align: right;\">\n",
       "      <th></th>\n",
       "      <th>qtd_func</th>\n",
       "      <th>(%) do total</th>\n",
       "    </tr>\n",
       "    <tr>\n",
       "      <th>churn_probabilidade</th>\n",
       "      <th></th>\n",
       "      <th></th>\n",
       "    </tr>\n",
       "  </thead>\n",
       "  <tbody>\n",
       "    <tr>\n",
       "      <th>Highly Likely to Churn</th>\n",
       "      <td>884</td>\n",
       "      <td>57.3</td>\n",
       "    </tr>\n",
       "    <tr>\n",
       "      <th>Moderately Likely to Churn</th>\n",
       "      <td>627</td>\n",
       "      <td>40.6</td>\n",
       "    </tr>\n",
       "    <tr>\n",
       "      <th>Slightly Likely to Churn</th>\n",
       "      <td>32</td>\n",
       "      <td>2.1</td>\n",
       "    </tr>\n",
       "  </tbody>\n",
       "</table>\n",
       "</div>"
      ],
      "text/plain": [
       "                            qtd_func  (%) do total\n",
       "churn_probabilidade                               \n",
       "Highly Likely to Churn           884          57.3\n",
       "Moderately Likely to Churn       627          40.6\n",
       "Slightly Likely to Churn          32           2.1"
      ]
     },
     "execution_count": 14,
     "metadata": {},
     "output_type": "execute_result"
    }
   ],
   "source": [
    "churn_probabilidade_count = df['churn_probabilidade'].value_counts()\n",
    "churn_probabilidade_perc = df['churn_probabilidade'].value_counts(normalize = True)\n",
    "churn_probabilidade = pd.DataFrame({'qtd_func' : churn_probabilidade_count, '(%) do total' : round(churn_probabilidade_perc * 100, 1)})\n",
    "churn_probabilidade"
   ]
  },
  {
   "cell_type": "code",
   "execution_count": 15,
   "metadata": {},
   "outputs": [
    {
     "name": "stdout",
     "output_type": "stream",
     "text": [
      "<class 'pandas.core.frame.DataFrame'>\n",
      "Index: 179 entries, 3 to 1522\n",
      "Data columns (total 17 columns):\n",
      " #   Column                 Non-Null Count  Dtype  \n",
      "---  ------                 --------------  -----  \n",
      " 0   id                     179 non-null    int64  \n",
      " 1   filial                 179 non-null    object \n",
      " 2   tempo_funcionario      178 non-null    float64\n",
      " 3   salario_anual          179 non-null    float64\n",
      " 4   setor                  179 non-null    object \n",
      " 5   satisfacao_trabalho    176 non-null    float64\n",
      " 6   balanco_vida_trabalho  176 non-null    float64\n",
      " 7   distancia_trabalho     179 non-null    object \n",
      " 8   estado_civil           179 non-null    object \n",
      " 9   escolaridade           179 non-null    object \n",
      " 10  avaliacao_performance  179 non-null    float64\n",
      " 11  horas_treinamento      155 non-null    float64\n",
      " 12  horas_extras           170 non-null    object \n",
      " 13  qtd_projetos           169 non-null    float64\n",
      " 14  anos_ult_promocao      179 non-null    float64\n",
      " 15  satisfacao_ambiente    175 non-null    float64\n",
      " 16  churn_probabilidade    179 non-null    object \n",
      "dtypes: float64(9), int64(1), object(7)\n",
      "memory usage: 25.2+ KB\n"
     ]
    }
   ],
   "source": [
    "df_scranton = df[df['filial'] == 'Scranton']\n",
    "df_scranton.info()"
   ]
  },
  {
   "cell_type": "code",
   "execution_count": 16,
   "metadata": {},
   "outputs": [
    {
     "data": {
      "text/html": [
       "<div>\n",
       "<style scoped>\n",
       "    .dataframe tbody tr th:only-of-type {\n",
       "        vertical-align: middle;\n",
       "    }\n",
       "\n",
       "    .dataframe tbody tr th {\n",
       "        vertical-align: top;\n",
       "    }\n",
       "\n",
       "    .dataframe thead th {\n",
       "        text-align: right;\n",
       "    }\n",
       "</style>\n",
       "<table border=\"1\" class=\"dataframe\">\n",
       "  <thead>\n",
       "    <tr style=\"text-align: right;\">\n",
       "      <th></th>\n",
       "      <th>qtd_func</th>\n",
       "      <th>(%) do total</th>\n",
       "    </tr>\n",
       "    <tr>\n",
       "      <th>churn_probabilidade</th>\n",
       "      <th></th>\n",
       "      <th></th>\n",
       "    </tr>\n",
       "  </thead>\n",
       "  <tbody>\n",
       "    <tr>\n",
       "      <th>Moderately Likely to Churn</th>\n",
       "      <td>90</td>\n",
       "      <td>50.3</td>\n",
       "    </tr>\n",
       "    <tr>\n",
       "      <th>Highly Likely to Churn</th>\n",
       "      <td>83</td>\n",
       "      <td>46.4</td>\n",
       "    </tr>\n",
       "    <tr>\n",
       "      <th>Slightly Likely to Churn</th>\n",
       "      <td>6</td>\n",
       "      <td>3.4</td>\n",
       "    </tr>\n",
       "  </tbody>\n",
       "</table>\n",
       "</div>"
      ],
      "text/plain": [
       "                            qtd_func  (%) do total\n",
       "churn_probabilidade                               \n",
       "Moderately Likely to Churn        90          50.3\n",
       "Highly Likely to Churn            83          46.4\n",
       "Slightly Likely to Churn           6           3.4"
      ]
     },
     "execution_count": 16,
     "metadata": {},
     "output_type": "execute_result"
    }
   ],
   "source": [
    "churn_probabilidade_count_scranton = df_scranton['churn_probabilidade'].value_counts()\n",
    "churn_probabilidade_perc_scranton = df_scranton['churn_probabilidade'].value_counts(normalize = True)\n",
    "churn_probabilidade_scranton = pd.DataFrame({'qtd_func' : churn_probabilidade_count_scranton, '(%) do total' : round(churn_probabilidade_perc_scranton * 100, 1)})\n",
    "churn_probabilidade_scranton"
   ]
  },
  {
   "cell_type": "code",
   "execution_count": 17,
   "metadata": {},
   "outputs": [
    {
     "name": "stderr",
     "output_type": "stream",
     "text": [
      "C:\\Users\\Willy\\AppData\\Local\\Packages\\PythonSoftwareFoundation.Python.3.11_qbz5n2kfra8p0\\LocalCache\\local-packages\\Python311\\site-packages\\seaborn\\_oldcore.py:1498: FutureWarning: is_categorical_dtype is deprecated and will be removed in a future version. Use isinstance(dtype, CategoricalDtype) instead\n",
      "  if pd.api.types.is_categorical_dtype(vector):\n",
      "C:\\Users\\Willy\\AppData\\Local\\Packages\\PythonSoftwareFoundation.Python.3.11_qbz5n2kfra8p0\\LocalCache\\local-packages\\Python311\\site-packages\\seaborn\\_oldcore.py:1119: FutureWarning: use_inf_as_na option is deprecated and will be removed in a future version. Convert inf values to NaN before operating instead.\n",
      "  with pd.option_context('mode.use_inf_as_na', True):\n"
     ]
    },
    {
     "data": {
      "text/plain": [
       "<Axes: xlabel='tempo_funcionario', ylabel='Count'>"
      ]
     },
     "execution_count": 17,
     "metadata": {},
     "output_type": "execute_result"
    },
    {
     "data": {
      "image/png": "[encoded data removed]",
      "text/plain": [
       "<Figure size 640x480 with 1 Axes>"
      ]
     },
     "metadata": {},
     "output_type": "display_data"
    }
   ],
   "source": [
    "sns.histplot(data = df, x = df['tempo_funcionario']\n",
    "             #, stat = 'count', bins = 10\n",
    "             )"
   ]
  },
  {
   "cell_type": "code",
   "execution_count": 18,
   "metadata": {},
   "outputs": [
    {
     "name": "stderr",
     "output_type": "stream",
     "text": [
      "C:\\Users\\Willy\\AppData\\Local\\Packages\\PythonSoftwareFoundation.Python.3.11_qbz5n2kfra8p0\\LocalCache\\local-packages\\Python311\\site-packages\\seaborn\\_oldcore.py:1498: FutureWarning: is_categorical_dtype is deprecated and will be removed in a future version. Use isinstance(dtype, CategoricalDtype) instead\n",
      "  if pd.api.types.is_categorical_dtype(vector):\n",
      "C:\\Users\\Willy\\AppData\\Local\\Packages\\PythonSoftwareFoundation.Python.3.11_qbz5n2kfra8p0\\LocalCache\\local-packages\\Python311\\site-packages\\seaborn\\_oldcore.py:1119: FutureWarning: use_inf_as_na option is deprecated and will be removed in a future version. Convert inf values to NaN before operating instead.\n",
      "  with pd.option_context('mode.use_inf_as_na', True):\n"
     ]
    },
    {
     "data": {
      "text/plain": [
       "<Axes: xlabel='salario_anual', ylabel='Count'>"
      ]
     },
     "execution_count": 18,
     "metadata": {},
     "output_type": "execute_result"
    },
    {
     "data": {
      "image/png": "[encoded data removed]",
      "text/plain": [
       "<Figure size 640x480 with 1 Axes>"
      ]
     },
     "metadata": {},
     "output_type": "display_data"
    }
   ],
   "source": [
    "sns.histplot(data = df, x = df['salario_anual'], stat = 'count', bins = 10)"
   ]
  },
  {
   "cell_type": "code",
   "execution_count": 19,
   "metadata": {},
   "outputs": [
    {
     "name": "stderr",
     "output_type": "stream",
     "text": [
      "C:\\Users\\Willy\\AppData\\Local\\Packages\\PythonSoftwareFoundation.Python.3.11_qbz5n2kfra8p0\\LocalCache\\local-packages\\Python311\\site-packages\\seaborn\\_oldcore.py:1498: FutureWarning: is_categorical_dtype is deprecated and will be removed in a future version. Use isinstance(dtype, CategoricalDtype) instead\n",
      "  if pd.api.types.is_categorical_dtype(vector):\n",
      "C:\\Users\\Willy\\AppData\\Local\\Packages\\PythonSoftwareFoundation.Python.3.11_qbz5n2kfra8p0\\LocalCache\\local-packages\\Python311\\site-packages\\seaborn\\_oldcore.py:1119: FutureWarning: use_inf_as_na option is deprecated and will be removed in a future version. Convert inf values to NaN before operating instead.\n",
      "  with pd.option_context('mode.use_inf_as_na', True):\n"
     ]
    },
    {
     "data": {
      "text/plain": [
       "<Axes: xlabel='avaliacao_performance', ylabel='Count'>"
      ]
     },
     "execution_count": 19,
     "metadata": {},
     "output_type": "execute_result"
    },
    {
     "data": {
      "image/png": "[encoded data removed]",
      "text/plain": [
       "<Figure size 640x480 with 1 Axes>"
      ]
     },
     "metadata": {},
     "output_type": "display_data"
    }
   ],
   "source": [
    "sns.histplot(data = df, x = df['avaliacao_performance'])"
   ]
  },
  {
   "cell_type": "code",
   "execution_count": 20,
   "metadata": {},
   "outputs": [
    {
     "name": "stderr",
     "output_type": "stream",
     "text": [
      "C:\\Users\\Willy\\AppData\\Local\\Packages\\PythonSoftwareFoundation.Python.3.11_qbz5n2kfra8p0\\LocalCache\\local-packages\\Python311\\site-packages\\seaborn\\_oldcore.py:1498: FutureWarning: is_categorical_dtype is deprecated and will be removed in a future version. Use isinstance(dtype, CategoricalDtype) instead\n",
      "  if pd.api.types.is_categorical_dtype(vector):\n",
      "C:\\Users\\Willy\\AppData\\Local\\Packages\\PythonSoftwareFoundation.Python.3.11_qbz5n2kfra8p0\\LocalCache\\local-packages\\Python311\\site-packages\\seaborn\\_oldcore.py:1119: FutureWarning: use_inf_as_na option is deprecated and will be removed in a future version. Convert inf values to NaN before operating instead.\n",
      "  with pd.option_context('mode.use_inf_as_na', True):\n"
     ]
    },
    {
     "data": {
      "text/plain": [
       "<Axes: xlabel='horas_treinamento', ylabel='Count'>"
      ]
     },
     "execution_count": 20,
     "metadata": {},
     "output_type": "execute_result"
    },
    {
     "data": {
      "image/png": "[encoded data removed]",
      "text/plain": [
       "<Figure size 640x480 with 1 Axes>"
      ]
     },
     "metadata": {},
     "output_type": "display_data"
    }
   ],
   "source": [
    "sns.histplot(data = df, x = df['horas_treinamento'])"
   ]
  }
 ],
 "metadata": {
  "kernelspec": {
   "display_name": "Python 3",
   "language": "python",
   "name": "python3"
  },
  "language_info": {
   "codemirror_mode": {
    "name": "ipython",
    "version": 3
   },
   "file_extension": ".py",
   "mimetype": "text/x-python",
   "name": "python",
   "nbconvert_exporter": "python",
   "pygments_lexer": "ipython3",
   "version": "3.12.0"
  },
  "orig_nbformat": 4
 },
 "nbformat": 4,
 "nbformat_minor": 2
}
